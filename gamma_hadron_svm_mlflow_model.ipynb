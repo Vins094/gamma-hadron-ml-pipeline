{
 "cells": [
  {
   "cell_type": "code",
   "execution_count": 1,
   "id": "db039da1-bb9f-4c67-bf36-6b4c9a7d4b42",
   "metadata": {},
   "outputs": [
    {
     "name": "stdout",
     "output_type": "stream",
     "text": [
      "Requirement already satisfied: ucimlrepo in c:\\users\\vinit\\anaconda3\\envs\\mlenv\\lib\\site-packages (0.0.7)\n",
      "Requirement already satisfied: pandas>=1.0.0 in c:\\users\\vinit\\anaconda3\\envs\\mlenv\\lib\\site-packages (from ucimlrepo) (2.2.3)\n",
      "Requirement already satisfied: certifi>=2020.12.5 in c:\\users\\vinit\\anaconda3\\envs\\mlenv\\lib\\site-packages (from ucimlrepo) (2025.1.31)\n",
      "Requirement already satisfied: numpy>=1.22.4 in c:\\users\\vinit\\anaconda3\\envs\\mlenv\\lib\\site-packages (from pandas>=1.0.0->ucimlrepo) (2.2.4)\n",
      "Requirement already satisfied: python-dateutil>=2.8.2 in c:\\users\\vinit\\anaconda3\\envs\\mlenv\\lib\\site-packages (from pandas>=1.0.0->ucimlrepo) (2.9.0.post0)\n",
      "Requirement already satisfied: pytz>=2020.1 in c:\\users\\vinit\\anaconda3\\envs\\mlenv\\lib\\site-packages (from pandas>=1.0.0->ucimlrepo) (2025.2)\n",
      "Requirement already satisfied: tzdata>=2022.7 in c:\\users\\vinit\\anaconda3\\envs\\mlenv\\lib\\site-packages (from pandas>=1.0.0->ucimlrepo) (2025.2)\n",
      "Requirement already satisfied: six>=1.5 in c:\\users\\vinit\\anaconda3\\envs\\mlenv\\lib\\site-packages (from python-dateutil>=2.8.2->pandas>=1.0.0->ucimlrepo) (1.16.0)\n"
     ]
    }
   ],
   "source": [
    "!pip install ucimlrepo"
   ]
  },
  {
   "cell_type": "code",
   "execution_count": 7,
   "id": "36eca485-1d4c-4a30-b598-5acf33bfb467",
   "metadata": {},
   "outputs": [],
   "source": [
    "#Import required libraries\n",
    "from preprocessing import split_data,pre_processing, df_to_arr\n",
    "from sklearn.metrics import RocCurveDisplay\n",
    "import mlflow\n",
    "import mlflow.sklearn\n",
    "import numpy as np\n",
    "import matplotlib.pyplot as plt\n",
    "import seaborn as sns\n",
    "from sklearn.svm import SVC\n",
    "from sklearn.metrics import (\n",
    "    roc_curve, auc, confusion_matrix, accuracy_score, f1_score, precision_score, recall_score\n",
    ")"
   ]
  },
  {
   "cell_type": "markdown",
   "id": "a47ecc91-e6ac-4854-8f8e-09a6ecbc183a",
   "metadata": {},
   "source": [
    "# Load the Data and perform preprocessing "
   ]
  },
  {
   "cell_type": "code",
   "execution_count": 2,
   "id": "4b20e70d-bd90-4f8b-80a2-952f32811044",
   "metadata": {},
   "outputs": [
    {
     "name": "stderr",
     "output_type": "stream",
     "text": [
      "C:\\Users\\vinit\\OneDrive\\Desktop\\Jupyter\\Jupyter\\Neural_Computing\\NN_coursework\\preprocessing.py:37: SettingWithCopyWarning: \n",
      "A value is trying to be set on a copy of a slice from a DataFrame.\n",
      "Try using .loc[row_indexer,col_indexer] = value instead\n",
      "\n",
      "See the caveats in the documentation: https://pandas.pydata.org/pandas-docs/stable/user_guide/indexing.html#returning-a-view-versus-a-copy\n",
      "  df['class'] = df['class'].map(dict)  # Map class labels\n"
     ]
    }
   ],
   "source": [
    "#pre-processed and split the data obtained from the function defined in preprocessing.py\n",
    "x, y = pre_processing()\n",
    "\n",
    "# Now you can split the data\n",
    "x_train, x_test, y_train, y_test = split_data(x, y)"
   ]
  },
  {
   "cell_type": "code",
   "execution_count": 3,
   "id": "4a5f0dd1-ceb3-4723-b4b8-b68d2d146122",
   "metadata": {},
   "outputs": [],
   "source": [
    "x_train, x_test, y_train, y_test = df_to_arr(x_train, x_test, y_train, y_test)"
   ]
  },
  {
   "cell_type": "markdown",
   "id": "a840a61a-446e-4da0-ad81-bbd5cdafdba3",
   "metadata": {},
   "source": [
    "# Model hyperparameter tunning by grid search "
   ]
  },
  {
   "cell_type": "code",
   "execution_count": null,
   "id": "398bc663-615d-4933-9347-205683f71857",
   "metadata": {},
   "outputs": [],
   "source": [
    "#finding fine grid (where c and gamma are two values before and after the values obtained from loose coarse,\n",
    "#with a difference of 0.25), kernel best acheived was rbf\n",
    "\n",
    "param_grid = {\n",
    "    'C': np.power(2, np.arange( 2.50,3.75, 0.25)),\n",
    "    'kernel': ['rbf'],\n",
    "    'gamma': np.power(2, np.arange( -2.50,-1.25, 0.25))\n",
    "}"
   ]
  },
  {
   "cell_type": "code",
   "execution_count": null,
   "id": "7ce015db-a006-43fa-9e49-d48a66e1d0f4",
   "metadata": {},
   "outputs": [],
   "source": [
    "# Create the grid search object\n",
    "grid_search = GridSearchCV(\n",
    "    estimator=SVC(),\n",
    "    param_grid=param_grid,\n",
    "    cv=5,\n",
    "    scoring='accuracy',\n",
    "    n_jobs=-1,  # Use all available cores for parallel execution\n",
    "    verbose=2   \n",
    ")"
   ]
  },
  {
   "cell_type": "code",
   "execution_count": null,
   "id": "7e8de546-e0e3-4820-a4f2-95ef2f3f4969",
   "metadata": {},
   "outputs": [],
   "source": [
    "grid_search.fit(x_train, y_train)"
   ]
  },
  {
   "cell_type": "code",
   "execution_count": null,
   "id": "1c893658-cecc-4e92-9c79-f2c2dc376f7f",
   "metadata": {},
   "outputs": [],
   "source": [
    "grid_search.best_params_ #best parameters from grid search"
   ]
  },
  {
   "cell_type": "code",
   "execution_count": null,
   "id": "98294662-bd30-4e8e-b5e0-30817f0a112c",
   "metadata": {},
   "outputs": [],
   "source": [
    "grid_results= pd.DataFrame(grid_search.cv_results_) #checking results obtained from fine grid to compare from hyperparameters obtained from loose grid"
   ]
  },
  {
   "cell_type": "code",
   "execution_count": null,
   "id": "1ea11c74-5cf9-4b9d-ab00-7de0881a4b6a",
   "metadata": {},
   "outputs": [],
   "source": [
    "grid_results[results['param_C']==8] #we got same c value on fine grid which we got in loose grid i.e, 8"
   ]
  },
  {
   "cell_type": "code",
   "execution_count": null,
   "id": "a64cb89f-2555-4f27-83cd-cff0d232b634",
   "metadata": {},
   "outputs": [],
   "source": [
    "grid_search.best_score_"
   ]
  },
  {
   "cell_type": "code",
   "execution_count": 8,
   "id": "2c7f4609-679b-49cc-acc0-086759893346",
   "metadata": {},
   "outputs": [],
   "source": [
    "# model = SVC(C=8,probability=True, degree =2) \n",
    "svc_model = SVC(C=8,probability=True, gamma =0.25, kernel = 'rbf') #best params\n",
    "# model = SVC(C=0.8, kernel = 'linear')"
   ]
  },
  {
   "cell_type": "markdown",
   "id": "7eb79b6e-5ceb-4a67-b157-9f2d3ca7f63d",
   "metadata": {},
   "source": [
    "# Log the model to MLflow"
   ]
  },
  {
   "cell_type": "code",
   "execution_count": 21,
   "id": "5e735f8c-c61b-4e89-ae51-c6ee58161d56",
   "metadata": {},
   "outputs": [],
   "source": [
    "# Initialize MLflow\n",
    "mlflow.set_experiment(\"svm_best_model\")\n",
    "mlflow.set_tracking_uri(\"http://127.0.0.1:5000/\")\n",
    "# Start an MLflow run\n",
    "with mlflow.start_run(run_name=\"svc_model_run\"):\n",
    "    # Log model hyperparameters\n",
    "    mlflow.log_param(\"C\", 8)\n",
    "    mlflow.log_param(\"gamma\", 0.25)\n",
    "    mlflow.log_param(\"kernel\", \"rbf\")\n",
    "\n",
    "    # Train the model\n",
    "    svc_model.fit(x_train, y_train)\n",
    "\n",
    "    # Predict probabilities & labels\n",
    "    y_prob = svc_model.predict_proba(x_test)\n",
    "    y_pred = svc_model.predict(x_test)\n",
    "\n",
    "    # Compute ROC Curve\n",
    "    fpr, tpr, _ = roc_curve(y_test, y_prob[:, 1])  # Class 1 (Gamma)\n",
    "    roc_auc = auc(fpr, tpr)\n",
    "\n",
    "    # Plot ROC Curve\n",
    "    plt.figure(figsize=(7, 5))\n",
    "    plt.plot(fpr, tpr, label=f'ROC Curve (AUC = {roc_auc:.2f})')\n",
    "    plt.xlabel('False Positive Rate')\n",
    "    plt.ylabel('True Positive Rate')\n",
    "    plt.title('ROC Curve')\n",
    "    plt.legend()\n",
    "\n",
    "    # Save ROC curve as artifact\n",
    "    roc_curve_path = \"roc_curve.png\"\n",
    "    plt.savefig(roc_curve_path)\n",
    "    mlflow.log_artifact(roc_curve_path)\n",
    "    plt.close()\n",
    "\n",
    "    # Confusion Matrix\n",
    "    cm = confusion_matrix(y_test, y_pred)\n",
    "\n",
    "    # Plot Confusion Matrix\n",
    "    plt.figure(figsize=(5, 4))\n",
    "    sns.heatmap(cm, annot=True, fmt='d', cmap=\"Blues\")\n",
    "    plt.xlabel('Predicted')\n",
    "    plt.ylabel('Actual')\n",
    "    plt.title('Confusion Matrix')\n",
    "\n",
    "    # Save Confusion Matrix as artifact\n",
    "    cm_path = \"confusion_matrix.png\"\n",
    "    plt.savefig(cm_path)\n",
    "    mlflow.log_artifact(cm_path)\n",
    "    plt.close()\n",
    "\n",
    "    # Compute Performance Metrics\n",
    "    accuracy = accuracy_score(y_test, y_pred)\n",
    "    f1 = f1_score(y_test, y_pred)\n",
    "    precision = precision_score(y_test, y_pred)\n",
    "    recall = recall_score(y_test, y_pred)\n",
    "\n",
    "    # Log Performance Metrics\n",
    "    mlflow.log_metric(\"Accuracy\", accuracy)\n",
    "    mlflow.log_metric(\"F1 Score\", f1)\n",
    "    mlflow.log_metric(\"Precision\", precision)\n",
    "    mlflow.log_metric(\"Recall\", recall)\n",
    "\n",
    "    # Log the trained model\n",
    "    mlflow.sklearn.log_model(svc_model, \"svm_model\")\n",
    "\n",
    "    print(\"✅ Model and metrics logged successfully in MLflow!\")\n"
   ]
  },
  {
   "cell_type": "code",
   "execution_count": 11,
   "id": "67e5e039-b7a2-4b0d-b2eb-76e1ebc19809",
   "metadata": {},
   "outputs": [],
   "source": [
    "#register the model"
   ]
  },
  {
   "cell_type": "code",
   "execution_count": 12,
   "id": "0bba52e3-d3ff-403a-ab3a-bf55bcad34d7",
   "metadata": {},
   "outputs": [],
   "source": [
    "# https://www.mlflow.org/docs/latest/model-registry/#adding-an-mlflow-model-to-the-model-registry"
   ]
  },
  {
   "cell_type": "markdown",
   "id": "3da44dbf-fcf4-4b27-aa27-c4f494e8e556",
   "metadata": {},
   "source": [
    "# Register the Model"
   ]
  },
  {
   "cell_type": "code",
   "execution_count": null,
   "id": "062ae384-b6d2-405d-9e56-d189d134bb5e",
   "metadata": {},
   "outputs": [],
   "source": [
    "# We use api below to register using model uri and runid"
   ]
  },
  {
   "cell_type": "code",
   "execution_count": 22,
   "id": "55ef2f44-94b6-471e-bb48-97a53d5dff64",
   "metadata": {},
   "outputs": [],
   "source": [
    "#it also helps in maintaining the version \n",
    "model_name = 'Support vector machine model' #give a name of model you want to register\n",
    "run_id = input('Enter run id:')\n",
    "model_uri = f'runs:/{run_id}/model'\n",
    "result = mlflow.register_model(\n",
    "    model_uri, model_name \n",
    ")"
   ]
  },
  {
   "cell_type": "markdown",
   "id": "d663e9da-954e-4de9-be05-b1078a14bffb",
   "metadata": {},
   "source": [
    "# Load the registered ML model to make predictions"
   ]
  },
  {
   "cell_type": "code",
   "execution_count": 17,
   "id": "3b6696b2-48ce-47ab-8c79-d4cf2d085ea2",
   "metadata": {},
   "outputs": [
    {
     "data": {
      "application/vnd.jupyter.widget-view+json": {
       "model_id": "2cde7fbd868346768af021c9d157e10e",
       "version_major": 2,
       "version_minor": 0
      },
      "text/plain": [
       "Downloading artifacts:   0%|          | 0/5 [00:00<?, ?it/s]"
      ]
     },
     "metadata": {},
     "output_type": "display_data"
    }
   ],
   "source": [
    "import mlflow\n",
    "run_id = f\"your model's run ID\"\n",
    "logged_model = f'runs:/{run_id}/svm_model' #from  MLFlow url\n",
    "\n",
    "# Load model as a PyFuncModel.\n",
    "loaded_model = mlflow.pyfunc.load_model(logged_model)\n",
    "\n"
   ]
  },
  {
   "cell_type": "code",
   "execution_count": null,
   "id": "d7dddc8a-4bf6-4a28-a8f3-63a85d6951ed",
   "metadata": {},
   "outputs": [],
   "source": [
    "#load the registered model\n",
    "model_uri = f'runs:/{run_id}/{model_name}'\n",
    "# Load model as a PyFuncModel.\n",
    "loaded_model = mlflow.pyfunc.load_model(model_uri)"
   ]
  },
  {
   "cell_type": "code",
   "execution_count": 19,
   "id": "473119cc-c2ab-46fa-8b14-c8fc00f2a964",
   "metadata": {},
   "outputs": [
    {
     "name": "stdout",
     "output_type": "stream",
     "text": [
      "<class 'mlflow.pyfunc.PyFuncModel'>\n"
     ]
    }
   ],
   "source": [
    "print(type(loaded_model)) "
   ]
  },
  {
   "cell_type": "code",
   "execution_count": 18,
   "id": "b9c2bd14-a6e9-4e3a-a60e-4bb0e0a3f280",
   "metadata": {},
   "outputs": [],
   "source": [
    "y_pred = loaded_model.predict(x_test)"
   ]
  },
  {
   "cell_type": "code",
   "execution_count": 20,
   "id": "165905bf-865d-4afe-8d06-767eea825268",
   "metadata": {},
   "outputs": [
    {
     "data": {
      "text/plain": [
       "array([0, 0, 0, ..., 1, 0, 1], shape=(3781,))"
      ]
     },
     "execution_count": 20,
     "metadata": {},
     "output_type": "execute_result"
    }
   ],
   "source": [
    "y_pred"
   ]
  },
  {
   "cell_type": "code",
   "execution_count": null,
   "id": "1d02e84d-a92d-4e80-8dac-294a56a454c5",
   "metadata": {},
   "outputs": [],
   "source": [
    "#After comparing different models and their results, bet model should be used for deployment "
   ]
  }
 ],
 "metadata": {
  "kernelspec": {
   "display_name": "Python 3 (ipykernel)",
   "language": "python",
   "name": "python3"
  },
  "language_info": {
   "codemirror_mode": {
    "name": "ipython",
    "version": 3
   },
   "file_extension": ".py",
   "mimetype": "text/x-python",
   "name": "python",
   "nbconvert_exporter": "python",
   "pygments_lexer": "ipython3",
   "version": "3.10.9"
  }
 },
 "nbformat": 4,
 "nbformat_minor": 5
}
